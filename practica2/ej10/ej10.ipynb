{
 "cells": [
  {
   "cell_type": "markdown",
   "metadata": {},
   "source": [
    "# 💾 Practica 2 - Ejercicio 10"
   ]
  },
  {
   "cell_type": "markdown",
   "metadata": {},
   "source": [
    "- Abro los 3 archivos , el archivo de nombres y el archivo que contiene las 2 notas los abro con **with** para asegurarme el close de cada archivo\n",
    "y los guardo en 3 variables **names** , **notes** y **notes2** , los guardo como listas despues de leerlos con **readlines()**"
   ]
  },
  {
   "cell_type": "code",
   "execution_count": 9,
   "metadata": {},
   "outputs": [],
   "source": [
    "with open('nombres_1.txt', 'r', encoding=\"UTF-8\") as names_1:\n",
    "    names = names_1.readlines()\n",
    "with open('eval1.txt', 'r', encoding=\"UTF-8\") as notes1:\n",
    "    notes = notes1.readlines()\n",
    "with open('eval2.txt', 'r', encoding=\"UTF-8\") as notes_2:\n",
    "    notes2 = notes_2.readlines()\n",
    " "
   ]
  },
  {
   "cell_type": "markdown",
   "metadata": {},
   "source": [
    "- Defino la function **clean_str** para refactorizar los nombres y las notas , ambos el readlines los guarda con el salto de linea y en nuestro caso tambien viene con una coma , para esto importo el modulo re para trabajar con operacion de expresiones regulares y con el metodo sub saco la comilla simpre y el salto de linea  , despues para el caso de las notas las transformo a int para poder despues operarlas"
   ]
  },
  {
   "cell_type": "code",
   "execution_count": 10,
   "metadata": {},
   "outputs": [],
   "source": [
    "import re\n",
    "\n",
    "def clean_str(names, notes, notes2):\n",
    "    for inx in range(len(names)):\n",
    "        names[inx] = re.sub('\\'|\\n|,', '', names[inx])\n",
    "        notes[inx] = int(re.sub('\\'|\\n|,', '', notes[inx]))\n",
    "        notes2[inx] = int(re.sub('\\'|\\n|,', '', notes2[inx]))\n",
    "\n",
    "\n",
    "clean_str(names, notes, notes2)"
   ]
  },
  {
   "cell_type": "markdown",
   "metadata": {},
   "source": [
    "- Una vez que tengo las 3 variables refactorizadas los nombres como lista de strings y las notas como listas de enteros , elijo para guardar lo pedido una lista de diccionarios\n",
    "el diccionarios va a ser un registro con los claves **name** y **sumNotes** para esto recorro los nombres teniendo un indice , convocando al mismo indice a las listas de notas para sumarlas"
   ]
  },
  {
   "cell_type": "code",
   "execution_count": 11,
   "metadata": {},
   "outputs": [],
   "source": [
    "students_notes = []\n",
    "\n",
    "for inx in range(len(names)):\n",
    "    student_note = {'name': names[inx], 'sumNotes': notes[inx]+notes2[inx]}\n",
    "    students_notes.append(student_note)"
   ]
  },
  {
   "cell_type": "markdown",
   "metadata": {},
   "source": [
    "- En **average_notes** guardo el promedio de las notas , para esto uso la funcion reduce para sumar el total de ambas listas de notas y dividirlas por la cantidad de alumnos , para el caso podria haber usando cualquier **len()** de las 3 listas porque la cantidad es la misma"
   ]
  },
  {
   "cell_type": "code",
   "execution_count": null,
   "metadata": {},
   "outputs": [],
   "source": [
    "from functools import reduce\n",
    "\n",
    "average_notes = (reduce(lambda n1, n2: n1+n2, notes) +\n",
    "                 reduce(lambda n1, n2: n1+n2, notes2)) / len(names)\n",
    "\n",
    "print(f'El promedio de las notas es de   {round(average_notes,2)}')"
   ]
  }
 ],
 "metadata": {
  "interpreter": {
   "hash": "e620c0e67f1a04dc7bbe8dc03804fc380ac756fbdb5340ed2459fdb23bff842b"
  },
  "kernelspec": {
   "display_name": "Python 3.9.7 ('base')",
   "language": "python",
   "name": "python3"
  },
  "language_info": {
   "codemirror_mode": {
    "name": "ipython",
    "version": 3
   },
   "file_extension": ".py",
   "mimetype": "text/x-python",
   "name": "python",
   "nbconvert_exporter": "python",
   "pygments_lexer": "ipython3",
   "version": "3.9.7"
  },
  "orig_nbformat": 4
 },
 "nbformat": 4,
 "nbformat_minor": 2
}
